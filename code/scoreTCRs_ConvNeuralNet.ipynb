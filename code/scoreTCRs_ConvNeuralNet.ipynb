{
 "cells": [
  {
   "cell_type": "code",
   "execution_count": 1,
   "id": "bc0c9ee5",
   "metadata": {},
   "outputs": [],
   "source": [
    "import numpy as np\n",
    "import pandas as pd\n",
    "import torch\n",
    "import torch.nn as nn\n",
    "import pickle\n",
    "import os\n",
    "from torch.utils.data import Dataset\n",
    "from sklearn import metrics"
   ]
  },
  {
   "cell_type": "code",
   "execution_count": 6,
   "id": "b66ea179",
   "metadata": {},
   "outputs": [],
   "source": [
    "def featurize(data):\n",
    "    xtrain = data.iloc[:,1:]\n",
    "    xtrain = xtrain.loc[:, xtrain.var() != 0]\n",
    "    atchleys = xtrain.loc[:, xtrain.columns.str.contains('AF')]\n",
    "    atchleys = atchleys.loc[:, ~atchleys.columns.str.contains('by')]\n",
    "\n",
    "\n",
    "    atch1 = atchleys.loc[:, atchleys.columns.str.contains('AF1')]\n",
    "    atch2 = atchleys.loc[:, atchleys.columns.str.contains('AF2')]\n",
    "    atch3 = atchleys.loc[:, atchleys.columns.str.contains('AF3')]\n",
    "    atch4 = atchleys.loc[:, atchleys.columns.str.contains('AF4')]\n",
    "    atch5 = atchleys.loc[:, atchleys.columns.str.contains('AF5')]\n",
    "\n",
    "    newatch = np.stack([atch1, atch2, atch3, atch4, atch5], axis=-1)\n",
    "    newatch = [np.transpose(x) for x in newatch]\n",
    "    newatch = np.array(newatch)\n",
    "\n",
    "    return newatch"
   ]
  },
  {
   "cell_type": "code",
   "execution_count": 7,
   "id": "33f8de36",
   "metadata": {},
   "outputs": [],
   "source": [
    "class finalnet(nn.Module):\n",
    "    def __init__(self, n_nodes):\n",
    "        super(finalnet,self).__init__()\n",
    "\n",
    "        self.conv = nn.Conv1d(5, 10, 3)\n",
    "        self.pool = nn.AvgPool1d(3, stride=1)\n",
    "        self.flatten = nn.Flatten()\n",
    "        self.linear1 = nn.Linear(540, n_nodes)\n",
    "        self.linearout = nn.Linear(n_nodes+1, 1)\n",
    "        self.relu = nn.ReLU()\n",
    "        self.sigmoid = nn.Sigmoid()\n",
    "\n",
    "    def forward(self, x, x2):\n",
    "        x = self.relu(self.conv(x))\n",
    "        x = self.pool(x)\n",
    "        x = self.flatten(x)\n",
    "        x = self.relu(torch.cat((x2, self.linear1(x)), 1))\n",
    "        x = self.linearout(x)\n",
    "        return x"
   ]
  },
  {
   "cell_type": "code",
   "execution_count": 8,
   "id": "451c261f",
   "metadata": {},
   "outputs": [],
   "source": [
    "class pairedDataset(Dataset):\n",
    "\n",
    "    def __init__(self, features_file, scores_file, use_x2=True):\n",
    "        feats = pd.read_csv(features_file)\n",
    "        scores = pd.read_csv(scores_file)\n",
    "        feats = feats[scores['target'].notna()]\n",
    "        scores = scores[scores['target'].notna()]\n",
    "        x = featurize(feats)\n",
    "        self.x = torch.tensor(x, dtype=torch.float32)\n",
    "        x2 = scores['score'].values\n",
    "        if (use_x2):\n",
    "            self.x2 = torch.tensor(x2.reshape(x2.shape[0],1), dtype=torch.float32)\n",
    "        else:\n",
    "            self.x2 = torch.zeros((x2.shape[0],1), dtype=torch.float32)\n",
    "        y = np.array(scores['target']*1, dtype='float32')\n",
    "        self.y = torch.tensor(y.reshape(y.shape[0],1), dtype=torch.float32)\n",
    "        print(scores.columns)\n",
    "        if 'cell' in scores.columns:\n",
    "            self.barcode = scores['cell'].values\n",
    "        else:\n",
    "            self.barcode = scores['Unnamed: 0'].values\n",
    "\n",
    "    def __len__(self):\n",
    "\n",
    "        return len(self.x)\n",
    "\n",
    "    def __getitem__(self, idx):\n",
    "\n",
    "        return self.x[idx], self.x2[idx], self.y[idx], self.barcode[idx]"
   ]
  },
  {
   "cell_type": "code",
   "execution_count": 9,
   "id": "5ccad31a",
   "metadata": {},
   "outputs": [],
   "source": [
    "def score_tcrs (model, loader, batch_size):\n",
    "    outputs = np.zeros(len(loader)*batch_size)\n",
    "    testy = np.zeros(len(loader)*batch_size)\n",
    "    cell = []\n",
    "    i = 0\n",
    "    for x, x2, y, barcode in loader:\n",
    "        step = min(batch_size, y.shape[0])\n",
    "        testy[i:(step+i)] = y.detach().numpy().flatten()\n",
    "        out = model(x, x2)\n",
    "        outputs[i:(step+i)] = out.detach().numpy().flatten()\n",
    "        cell[i:(step+1)] = barcode\n",
    "        i = i + step\n",
    "    outputs = outputs[0:i]\n",
    "    testy = testy[0:i]\n",
    "    res = pd.DataFrame({'cell': cell, 'cnn_score':outputs, 'y':testy})\n",
    "    return(res)"
   ]
  },
  {
   "cell_type": "code",
   "execution_count": 10,
   "id": "f94b4db1",
   "metadata": {},
   "outputs": [],
   "source": [
    "with open('data/mycnn091424_final/cnn091424_target1_batch64_lr0.0003_nnodes10.pkl', 'rb') as f:\n",
    "    res = pickle.load(f)\n",
    "    dict1 = pickle.load(f)"
   ]
  },
  {
   "cell_type": "code",
   "execution_count": 11,
   "id": "8c2c9c9c",
   "metadata": {},
   "outputs": [],
   "source": [
    "with open('data/mycnn091424_final/cnn091424_target2_batch64_lr0.0003_nnodes10.pkl', 'rb') as f:\n",
    "    res = pickle.load(f)\n",
    "    dict2 = pickle.load(f)"
   ]
  },
  {
   "cell_type": "code",
   "execution_count": 12,
   "id": "d3654be0",
   "metadata": {},
   "outputs": [],
   "source": [
    "with open('data/mycnn091424_final/cnn091424_target3_batch64_lr0.0003_nnodes10.pkl', 'rb') as f:\n",
    "    res = pickle.load(f)\n",
    "    dict3 = pickle.load(f)"
   ]
  },
  {
   "cell_type": "code",
   "execution_count": 13,
   "id": "b5ced248",
   "metadata": {},
   "outputs": [],
   "source": [
    "with open('data/mycnn091424_final/cnn091424_target4_batch64_lr0.0003_nnodes10.pkl', 'rb') as f:\n",
    "    res = pickle.load(f)\n",
    "    dict4 = pickle.load(f)"
   ]
  },
  {
   "cell_type": "code",
   "execution_count": 14,
   "id": "757614e8",
   "metadata": {},
   "outputs": [
    {
     "data": {
      "text/plain": [
       "<All keys matched successfully>"
      ]
     },
     "execution_count": 14,
     "metadata": {},
     "output_type": "execute_result"
    }
   ],
   "source": [
    "model1 = finalnet(n_nodes=10)\n",
    "model1.load_state_dict(dict1)\n",
    "model2 = finalnet(n_nodes=10)\n",
    "model2.load_state_dict(dict2)\n",
    "model3 = finalnet(n_nodes=10)\n",
    "model3.load_state_dict(dict3)\n",
    "model4 = finalnet(n_nodes=10)\n",
    "model4.load_state_dict(dict4)"
   ]
  },
  {
   "cell_type": "code",
   "execution_count": 22,
   "id": "e30a0bc9",
   "metadata": {},
   "outputs": [
    {
     "name": "stdout",
     "output_type": "stream",
     "text": [
      "Index(['Unnamed: 0', 'cell', 'score', 'target'], dtype='object')\n"
     ]
    }
   ],
   "source": [
    "scores_file = 'stephenson_x2files/target1_x2file.csv'\n",
    "\n",
    "sdata1 = pairedDataset('data/stephenson_TCRs_ftzdM_scaled_nocex_061224.csv', scores_file, use_x2=True)"
   ]
  },
  {
   "cell_type": "code",
   "execution_count": 23,
   "id": "8bb36de9",
   "metadata": {},
   "outputs": [
    {
     "data": {
      "text/plain": [
       "0.836487692980701"
      ]
     },
     "execution_count": 23,
     "metadata": {},
     "output_type": "execute_result"
    }
   ],
   "source": [
    "loader1 = torch.utils.data.DataLoader(sdata1,\n",
    "                batch_size=256,\n",
    "                shuffle=False)\n",
    "steph_scores1 = score_tcrs(model1, loader1, 256)\n",
    "metrics.roc_auc_score(steph_scores1['y'], steph_scores1['cnn_score'])\n"
   ]
  },
  {
   "cell_type": "code",
   "execution_count": 26,
   "id": "72d39a45",
   "metadata": {},
   "outputs": [
    {
     "name": "stdout",
     "output_type": "stream",
     "text": [
      "Index(['Unnamed: 0', 'cell', 'score', 'target'], dtype='object')\n"
     ]
    }
   ],
   "source": [
    "scores_file = 'stephenson_x2files/target2_x2file.csv'\n",
    "sdata2 = pairedDataset('stephenson_TCRs_ftzdM_scaled_nocex_061224.csv', scores_file, use_x2=True)"
   ]
  },
  {
   "cell_type": "code",
   "execution_count": 27,
   "id": "5be1e864",
   "metadata": {},
   "outputs": [
    {
     "data": {
      "text/plain": [
       "0.7628802552810205"
      ]
     },
     "execution_count": 27,
     "metadata": {},
     "output_type": "execute_result"
    }
   ],
   "source": [
    "loader2 = torch.utils.data.DataLoader(sdata2,\n",
    "                batch_size=256,\n",
    "                shuffle=False)\n",
    "steph_scores2 = score_tcrs(model2, loader2, 256)\n",
    "metrics.roc_auc_score(steph_scores2['y'], steph_scores2['cnn_score'])\n"
   ]
  },
  {
   "cell_type": "code",
   "execution_count": 29,
   "id": "6711cbe3",
   "metadata": {},
   "outputs": [
    {
     "name": "stdout",
     "output_type": "stream",
     "text": [
      "Index(['Unnamed: 0', 'cell', 'score', 'target'], dtype='object')\n"
     ]
    }
   ],
   "source": [
    "scores_file = 'stephenson_x2files/target3_x2file.csv'\n",
    "sdata3 = pairedDataset('stephenson_TCRs_ftzdM_scaled_nocex_061224.csv', scores_file, use_x2=True)"
   ]
  },
  {
   "cell_type": "code",
   "execution_count": 30,
   "id": "86e22db2",
   "metadata": {},
   "outputs": [
    {
     "data": {
      "text/plain": [
       "0.5610634373947461"
      ]
     },
     "execution_count": 30,
     "metadata": {},
     "output_type": "execute_result"
    }
   ],
   "source": [
    "loader3 = torch.utils.data.DataLoader(sdata3,\n",
    "                batch_size=256,\n",
    "                shuffle=False)\n",
    "steph_scores3 = score_tcrs(model3, loader3, 256)\n",
    "metrics.roc_auc_score(steph_scores3['y'], steph_scores3['cnn_score'])\n"
   ]
  },
  {
   "cell_type": "code",
   "execution_count": 31,
   "id": "af51a74a",
   "metadata": {},
   "outputs": [
    {
     "name": "stdout",
     "output_type": "stream",
     "text": [
      "Index(['Unnamed: 0', 'cell', 'score', 'target'], dtype='object')\n"
     ]
    }
   ],
   "source": [
    "scores_file = 'stephenson_x2files/target4_x2file.csv'\n",
    "sdata4 = pairedDataset('stephenson_TCRs_ftzdM_scaled_nocex_061224.csv', scores_file, use_x2=True)"
   ]
  },
  {
   "cell_type": "code",
   "execution_count": 32,
   "id": "1f6b418c",
   "metadata": {},
   "outputs": [
    {
     "data": {
      "text/plain": [
       "0.5333481349746946"
      ]
     },
     "execution_count": 32,
     "metadata": {},
     "output_type": "execute_result"
    }
   ],
   "source": [
    "loader4 = torch.utils.data.DataLoader(sdata4,\n",
    "                batch_size=256,\n",
    "                shuffle=False)\n",
    "steph_scores4 = score_tcrs(model4, loader4, 256)\n",
    "metrics.roc_auc_score(steph_scores4['y'], steph_scores4['cnn_score'])\n"
   ]
  },
  {
   "cell_type": "code",
   "execution_count": 37,
   "id": "c687ae69",
   "metadata": {},
   "outputs": [],
   "source": [
    "steph_scores1.to_csv(\"data/stephenson_CNNtarget1scores_091524.csv\")\n",
    "steph_scores2.to_csv(\"data/stephenson_CNNtarget2scores_091524.csv\")\n",
    "steph_scores3.to_csv(\"data/stephenson_CNNtarget3scores_091524.csv\")\n",
    "steph_scores4.to_csv(\"data/stephenson_CNNtarget4scores_091524.csv\")"
   ]
  },
  {
   "cell_type": "code",
   "execution_count": null,
   "id": "e4380260-6bb0-4e28-bbd1-0e6e86f9de2c",
   "metadata": {},
   "outputs": [],
   "source": []
  }
 ],
 "metadata": {
  "kernelspec": {
   "display_name": "Python 3 (ipykernel)",
   "language": "python",
   "name": "python3"
  },
  "language_info": {
   "codemirror_mode": {
    "name": "ipython",
    "version": 3
   },
   "file_extension": ".py",
   "mimetype": "text/x-python",
   "name": "python",
   "nbconvert_exporter": "python",
   "pygments_lexer": "ipython3",
   "version": "3.11.5"
  }
 },
 "nbformat": 4,
 "nbformat_minor": 5
}
