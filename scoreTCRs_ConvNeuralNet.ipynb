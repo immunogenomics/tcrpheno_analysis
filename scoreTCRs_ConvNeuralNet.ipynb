{
 "cells": [
  {
   "cell_type": "code",
   "execution_count": 10,
   "id": "0aaea7e6",
   "metadata": {},
   "outputs": [],
   "source": [
    "import numpy as np\n",
    "import pandas as pd\n",
    "import torch\n",
    "import torch.nn as nn\n",
    "import pickle\n",
    "import os\n",
    "from torch.utils.data import Dataset\n",
    "from sklearn import metrics"
   ]
  },
  {
   "cell_type": "code",
   "execution_count": 11,
   "id": "6bdb7ab6",
   "metadata": {},
   "outputs": [],
   "source": [
    "os.chdir(\"/Users/klagattu/Downloads/tcrpheno_analysis_github/data\")"
   ]
  },
  {
   "cell_type": "code",
   "execution_count": 12,
   "id": "6d3948ba",
   "metadata": {},
   "outputs": [],
   "source": [
    "def featurize(data):\n",
    "    xtrain = data.iloc[:,1:]\n",
    "\n",
    "    atchleys = xtrain.loc[:, xtrain.columns.str.contains('AF')]\n",
    "    atchleys = atchleys.loc[:, ~atchleys.columns.str.contains('by')]\n",
    "\n",
    "\n",
    "    atch1 = atchleys.loc[:, atchleys.columns.str.contains('AF1')]\n",
    "    atch2 = atchleys.loc[:, atchleys.columns.str.contains('AF2')]\n",
    "    atch3 = atchleys.loc[:, atchleys.columns.str.contains('AF3')]\n",
    "    atch4 = atchleys.loc[:, atchleys.columns.str.contains('AF4')]\n",
    "    atch5 = atchleys.loc[:, atchleys.columns.str.contains('AF5')]\n",
    "\n",
    "    newatch = np.stack([atch1, atch2, atch3, atch4, atch5], axis=-1)\n",
    "    newatch = [np.transpose(x) for x in newatch]\n",
    "    newatch = np.array(newatch)\n",
    "\n",
    "    return newatch"
   ]
  },
  {
   "cell_type": "code",
   "execution_count": 13,
   "id": "8bf32ba6",
   "metadata": {},
   "outputs": [],
   "source": [
    "class finalnet(nn.Module):\n",
    "    def __init__(self, n_nodes):\n",
    "        super(finalnet,self).__init__()\n",
    "\n",
    "        self.conv = nn.Conv1d(5, 10, 3)\n",
    "        self.pool = nn.AvgPool1d(3, stride=1)\n",
    "        self.flatten = nn.Flatten()\n",
    "        self.linear1 = nn.Linear(540, n_nodes)\n",
    "        self.linearout = nn.Linear(n_nodes+1, 1)\n",
    "        self.relu = nn.ReLU()\n",
    "        self.sigmoid = nn.Sigmoid()\n",
    "\n",
    "    def forward(self, x, x2):\n",
    "        x = self.relu(self.conv(x))\n",
    "        x = self.pool(x)\n",
    "        x = self.flatten(x)\n",
    "        x = self.relu(torch.cat((x2, self.linear1(x)), 1))\n",
    "        x = self.linearout(x)\n",
    "        return x"
   ]
  },
  {
   "cell_type": "code",
   "execution_count": 14,
   "id": "e1937703",
   "metadata": {},
   "outputs": [],
   "source": [
    "class pairedDataset(Dataset):\n",
    "\n",
    "    def __init__(self, features_file, scores_file, use_x2=True):\n",
    "        feats = pd.read_csv(features_file)\n",
    "        scores = pd.read_csv(scores_file)\n",
    "        feats = feats[scores['target'].notna()]\n",
    "        scores = scores[scores['target'].notna()]\n",
    "        x = featurize(feats)\n",
    "        self.x = torch.tensor(x, dtype=torch.float32)\n",
    "        x2 = scores['score'].values\n",
    "        if (use_x2):\n",
    "            self.x2 = torch.tensor(x2.reshape(x2.shape[0],1), dtype=torch.float32)\n",
    "        else:\n",
    "            self.x2 = torch.zeros((x2.shape[0],1), dtype=torch.float32)\n",
    "        y = np.array(scores['target']*1, dtype='float32')\n",
    "        self.y = torch.tensor(y.reshape(y.shape[0],1), dtype=torch.float32)\n",
    "        print(scores.columns)\n",
    "        if 'cell' in scores.columns:\n",
    "            self.barcode = scores['cell'].values\n",
    "        else:\n",
    "            self.barcode = scores['Unnamed: 0'].values\n",
    "\n",
    "    def __len__(self):\n",
    "\n",
    "        return len(self.x)\n",
    "\n",
    "    def __getitem__(self, idx):\n",
    "\n",
    "        return self.x[idx], self.x2[idx], self.y[idx], self.barcode[idx]"
   ]
  },
  {
   "cell_type": "code",
   "execution_count": 15,
   "id": "39688cd2",
   "metadata": {},
   "outputs": [],
   "source": [
    "def score_tcrs (model, loader, batch_size):\n",
    "    outputs = np.zeros(len(loader)*batch_size)\n",
    "    testy = np.zeros(len(loader)*batch_size)\n",
    "    cell = []\n",
    "    i = 0\n",
    "    for x, x2, y, barcode in loader:\n",
    "        step = min(batch_size, y.shape[0])\n",
    "        testy[i:(step+i)] = y.detach().numpy().flatten()\n",
    "        out = model(x, x2)\n",
    "        outputs[i:(step+i)] = out.detach().numpy().flatten()\n",
    "        cell[i:(step+1)] = barcode\n",
    "        i = i + step\n",
    "    outputs = outputs[0:i]\n",
    "    testy = testy[0:i]\n",
    "    res = pd.DataFrame({'cell': cell, 'cnn_score':outputs, 'y':testy})\n",
    "    return(res)"
   ]
  },
  {
   "cell_type": "code",
   "execution_count": 16,
   "id": "22a7a62a",
   "metadata": {},
   "outputs": [],
   "source": [
    "with open('mycnn0612_final/cnn0612_target1_batch256_lr0.0003_nnodes10.pkl', 'rb') as f:\n",
    "    res = pickle.load(f)\n",
    "    dict1 = pickle.load(f)"
   ]
  },
  {
   "cell_type": "code",
   "execution_count": 17,
   "id": "a8a0aac9",
   "metadata": {},
   "outputs": [],
   "source": [
    "with open('mycnn0612_final/cnn0612_target2_batch256_lr0.0003_nnodes10.pkl', 'rb') as f:\n",
    "    res = pickle.load(f)\n",
    "    dict2 = pickle.load(f)"
   ]
  },
  {
   "cell_type": "code",
   "execution_count": 18,
   "id": "ce68238d",
   "metadata": {},
   "outputs": [],
   "source": [
    "with open('mycnn0612_final/cnn0612_target3_batch256_lr0.0003_nnodes10.pkl', 'rb') as f:\n",
    "    res = pickle.load(f)\n",
    "    dict3 = pickle.load(f)"
   ]
  },
  {
   "cell_type": "code",
   "execution_count": 19,
   "id": "0890fecb",
   "metadata": {},
   "outputs": [],
   "source": [
    "with open('mycnn0612_final/cnn0612_target4_batch256_lr0.0003_nnodes10.pkl', 'rb') as f:\n",
    "    res = pickle.load(f)\n",
    "    dict4 = pickle.load(f)"
   ]
  },
  {
   "cell_type": "code",
   "execution_count": 20,
   "id": "b4f46d44",
   "metadata": {},
   "outputs": [
    {
     "data": {
      "text/plain": [
       "<All keys matched successfully>"
      ]
     },
     "execution_count": 20,
     "metadata": {},
     "output_type": "execute_result"
    }
   ],
   "source": [
    "model1 = finalnet(n_nodes=10)\n",
    "model1.load_state_dict(dict1)\n",
    "model2 = finalnet(n_nodes=10)\n",
    "model2.load_state_dict(dict2)\n",
    "model3 = finalnet(n_nodes=10)\n",
    "model3.load_state_dict(dict3)\n",
    "model4 = finalnet(n_nodes=10)\n",
    "model4.load_state_dict(dict4)"
   ]
  },
  {
   "cell_type": "code",
   "execution_count": 21,
   "id": "2f7479b8",
   "metadata": {},
   "outputs": [
    {
     "name": "stdout",
     "output_type": "stream",
     "text": [
      "Index(['Unnamed: 0', 'cell', 'score', 'target'], dtype='object')\n"
     ]
    }
   ],
   "source": [
    "scores_file = 'steph_x2files_061323/target1_x2file.csv'\n",
    "sdata1 = pairedDataset('stephenson_TCRfeats_scaled0606.csv', scores_file, use_x2=True)"
   ]
  },
  {
   "cell_type": "code",
   "execution_count": 22,
   "id": "b147f38e",
   "metadata": {},
   "outputs": [
    {
     "data": {
      "text/plain": [
       "0.8401002734839372"
      ]
     },
     "execution_count": 22,
     "metadata": {},
     "output_type": "execute_result"
    }
   ],
   "source": [
    "loader1 = torch.utils.data.DataLoader(sdata1,\n",
    "                batch_size=256,\n",
    "                shuffle=False)\n",
    "steph_scores1 = score_tcrs(model1, loader1, 256)\n",
    "metrics.roc_auc_score(steph_scores1['y'], steph_scores1['cnn_score'])"
   ]
  },
  {
   "cell_type": "code",
   "execution_count": 23,
   "id": "f29c4014",
   "metadata": {},
   "outputs": [
    {
     "name": "stdout",
     "output_type": "stream",
     "text": [
      "Index(['Unnamed: 0', 'cell', 'score', 'target'], dtype='object')\n"
     ]
    }
   ],
   "source": [
    "scores_file = 'steph_x2files_061323/target2_x2file.csv'\n",
    "sdata2 = pairedDataset('stephenson_TCRfeats_scaled0606.csv', scores_file, use_x2=True)"
   ]
  },
  {
   "cell_type": "code",
   "execution_count": 24,
   "id": "199a151a",
   "metadata": {},
   "outputs": [
    {
     "data": {
      "text/plain": [
       "0.7633529680953384"
      ]
     },
     "execution_count": 24,
     "metadata": {},
     "output_type": "execute_result"
    }
   ],
   "source": [
    "loader2 = torch.utils.data.DataLoader(sdata2,\n",
    "                batch_size=256,\n",
    "                shuffle=False)\n",
    "steph_scores2 = score_tcrs(model2, loader2, 256)\n",
    "metrics.roc_auc_score(steph_scores2['y'], steph_scores2['cnn_score'])"
   ]
  },
  {
   "cell_type": "code",
   "execution_count": 28,
   "id": "c8837b44",
   "metadata": {},
   "outputs": [
    {
     "name": "stdout",
     "output_type": "stream",
     "text": [
      "Index(['Unnamed: 0', 'cell', 'score', 'target'], dtype='object')\n"
     ]
    }
   ],
   "source": [
    "scores_file = 'steph_x2files_061323/target3_x2file.csv'\n",
    "sdata3 = pairedDataset('stephenson_TCRfeats_scaled0606.csv', scores_file, use_x2=True)"
   ]
  },
  {
   "cell_type": "code",
   "execution_count": 29,
   "id": "1053d494",
   "metadata": {},
   "outputs": [
    {
     "data": {
      "text/plain": [
       "0.5805922234407211"
      ]
     },
     "execution_count": 29,
     "metadata": {},
     "output_type": "execute_result"
    }
   ],
   "source": [
    "loader3 = torch.utils.data.DataLoader(sdata3,\n",
    "                batch_size=256,\n",
    "                shuffle=False)\n",
    "steph_scores3 = score_tcrs(model3, loader3, 256)\n",
    "metrics.roc_auc_score(steph_scores3['y'], steph_scores3['cnn_score'])"
   ]
  },
  {
   "cell_type": "code",
   "execution_count": 25,
   "id": "993d7dc3",
   "metadata": {},
   "outputs": [
    {
     "name": "stdout",
     "output_type": "stream",
     "text": [
      "Index(['Unnamed: 0', 'cell', 'score', 'target'], dtype='object')\n"
     ]
    }
   ],
   "source": [
    "scores_file = 'steph_x2files_061323/target4_x2file.csv'\n",
    "sdata4 = pairedDataset('stephenson_TCRfeats_scaled0606.csv', scores_file, use_x2=True)"
   ]
  },
  {
   "cell_type": "code",
   "execution_count": 26,
   "id": "6546fbd8",
   "metadata": {},
   "outputs": [
    {
     "data": {
      "text/plain": [
       "0.539457768825005"
      ]
     },
     "execution_count": 26,
     "metadata": {},
     "output_type": "execute_result"
    }
   ],
   "source": [
    "loader4 = torch.utils.data.DataLoader(sdata4,\n",
    "                batch_size=256,\n",
    "                shuffle=False)\n",
    "steph_scores4 = score_tcrs(model4, loader4, 256)\n",
    "metrics.roc_auc_score(steph_scores4['y'], steph_scores4['cnn_score'])"
   ]
  }
 ],
 "metadata": {
  "kernelspec": {
   "display_name": "Python 3 (ipykernel)",
   "language": "python",
   "name": "python3"
  },
  "language_info": {
   "codemirror_mode": {
    "name": "ipython",
    "version": 3
   },
   "file_extension": ".py",
   "mimetype": "text/x-python",
   "name": "python",
   "nbconvert_exporter": "python",
   "pygments_lexer": "ipython3",
   "version": "3.11.4"
  }
 },
 "nbformat": 4,
 "nbformat_minor": 5
}
